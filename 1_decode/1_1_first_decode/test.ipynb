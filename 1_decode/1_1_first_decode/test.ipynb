{
 "cells": [
  {
   "cell_type": "code",
   "execution_count": 1,
   "outputs": [],
   "source": [
    "f = open(\"event_record1699173527482016086.aedat\", 'rb')"
   ],
   "metadata": {
    "collapsed": false,
    "ExecuteTime": {
     "end_time": "2023-11-06T19:58:43.593549Z",
     "start_time": "2023-11-06T19:58:43.584288800Z"
    }
   },
   "id": "96188c3171ad1bde"
  },
  {
   "cell_type": "code",
   "execution_count": 2,
   "outputs": [],
   "source": [
    "data = f.read(8)"
   ],
   "metadata": {
    "collapsed": false,
    "ExecuteTime": {
     "end_time": "2023-11-06T19:59:02.573411300Z",
     "start_time": "2023-11-06T19:59:02.555340100Z"
    }
   },
   "id": "72c157836269ef4f"
  },
  {
   "cell_type": "code",
   "execution_count": 3,
   "outputs": [
    {
     "data": {
      "text/plain": "b'\\x00\\xa3\\x03^\\x00\\x00\\x00\\x00'"
     },
     "execution_count": 3,
     "metadata": {},
     "output_type": "execute_result"
    }
   ],
   "source": [
    "data\n"
   ],
   "metadata": {
    "collapsed": false,
    "ExecuteTime": {
     "end_time": "2023-11-06T19:59:05.765403200Z",
     "start_time": "2023-11-06T19:59:05.701385100Z"
    }
   },
   "id": "feb479905dc8125f"
  },
  {
   "cell_type": "code",
   "execution_count": 4,
   "outputs": [
    {
     "name": "stdout",
     "output_type": "stream",
     "text": [
      "0\n",
      "163\n",
      "3\n",
      "94\n",
      "0\n",
      "0\n",
      "0\n",
      "0\n"
     ]
    }
   ],
   "source": [
    "for i in data:\n",
    "    print(i)"
   ],
   "metadata": {
    "collapsed": false,
    "ExecuteTime": {
     "end_time": "2023-11-06T19:59:24.559761500Z",
     "start_time": "2023-11-06T19:59:24.536780Z"
    }
   },
   "id": "9d562b2bf8492678"
  },
  {
   "cell_type": "code",
   "execution_count": 5,
   "outputs": [
    {
     "name": "stdout",
     "output_type": "stream",
     "text": [
      "0x0\n",
      "0xa3\n",
      "0x3\n",
      "0x5e\n",
      "0x0\n",
      "0x0\n",
      "0x0\n",
      "0x0\n"
     ]
    }
   ],
   "source": [
    "for i in data:\n",
    "    print(\"%#x\" % i)"
   ],
   "metadata": {
    "collapsed": false,
    "ExecuteTime": {
     "end_time": "2023-11-06T20:01:21.005799400Z",
     "start_time": "2023-11-06T20:01:20.999177700Z"
    }
   },
   "id": "2c6fea3782a6538"
  },
  {
   "cell_type": "code",
   "execution_count": null,
   "outputs": [],
   "source": [],
   "metadata": {
    "collapsed": false
   },
   "id": "5127bc7f11d695f3"
  }
 ],
 "metadata": {
  "kernelspec": {
   "display_name": "Python 3",
   "language": "python",
   "name": "python3"
  },
  "language_info": {
   "codemirror_mode": {
    "name": "ipython",
    "version": 2
   },
   "file_extension": ".py",
   "mimetype": "text/x-python",
   "name": "python",
   "nbconvert_exporter": "python",
   "pygments_lexer": "ipython2",
   "version": "2.7.6"
  }
 },
 "nbformat": 4,
 "nbformat_minor": 5
}
